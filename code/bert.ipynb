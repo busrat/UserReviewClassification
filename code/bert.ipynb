{
  "nbformat": 4,
  "nbformat_minor": 0,
  "metadata": {
    "colab": {
      "name": "bert.ipynb",
      "provenance": [],
      "collapsed_sections": [],
      "history_visible": true
    },
    "kernelspec": {
      "name": "python3",
      "display_name": "Python 3"
    },
    "language_info": {
      "name": "python"
    },
    "accelerator": "GPU"
  },
  "cells": [
    {
      "cell_type": "code",
      "metadata": {
        "id": "tvbwu3oCB3MH",
        "colab": {
          "base_uri": "https://localhost:8080/"
        },
        "outputId": "2ae95402-fdbb-429b-e281-c47db90d0a4e"
      },
      "source": [
        "!pip install transformers\n",
        "# !pip install tensorflow"
      ],
      "execution_count": 14,
      "outputs": [
        {
          "output_type": "stream",
          "text": [
            "Requirement already satisfied: transformers in /usr/local/lib/python3.7/dist-packages (4.6.1)\n",
            "Requirement already satisfied: regex!=2019.12.17 in /usr/local/lib/python3.7/dist-packages (from transformers) (2019.12.20)\n",
            "Requirement already satisfied: numpy>=1.17 in /usr/local/lib/python3.7/dist-packages (from transformers) (1.19.5)\n",
            "Requirement already satisfied: requests in /usr/local/lib/python3.7/dist-packages (from transformers) (2.23.0)\n",
            "Requirement already satisfied: sacremoses in /usr/local/lib/python3.7/dist-packages (from transformers) (0.0.45)\n",
            "Requirement already satisfied: importlib-metadata; python_version < \"3.8\" in /usr/local/lib/python3.7/dist-packages (from transformers) (4.5.0)\n",
            "Requirement already satisfied: filelock in /usr/local/lib/python3.7/dist-packages (from transformers) (3.0.12)\n",
            "Requirement already satisfied: packaging in /usr/local/lib/python3.7/dist-packages (from transformers) (20.9)\n",
            "Requirement already satisfied: tokenizers<0.11,>=0.10.1 in /usr/local/lib/python3.7/dist-packages (from transformers) (0.10.3)\n",
            "Requirement already satisfied: tqdm>=4.27 in /usr/local/lib/python3.7/dist-packages (from transformers) (4.41.1)\n",
            "Requirement already satisfied: huggingface-hub==0.0.8 in /usr/local/lib/python3.7/dist-packages (from transformers) (0.0.8)\n",
            "Requirement already satisfied: chardet<4,>=3.0.2 in /usr/local/lib/python3.7/dist-packages (from requests->transformers) (3.0.4)\n",
            "Requirement already satisfied: certifi>=2017.4.17 in /usr/local/lib/python3.7/dist-packages (from requests->transformers) (2021.5.30)\n",
            "Requirement already satisfied: idna<3,>=2.5 in /usr/local/lib/python3.7/dist-packages (from requests->transformers) (2.10)\n",
            "Requirement already satisfied: urllib3!=1.25.0,!=1.25.1,<1.26,>=1.21.1 in /usr/local/lib/python3.7/dist-packages (from requests->transformers) (1.24.3)\n",
            "Requirement already satisfied: six in /usr/local/lib/python3.7/dist-packages (from sacremoses->transformers) (1.15.0)\n",
            "Requirement already satisfied: click in /usr/local/lib/python3.7/dist-packages (from sacremoses->transformers) (7.1.2)\n",
            "Requirement already satisfied: joblib in /usr/local/lib/python3.7/dist-packages (from sacremoses->transformers) (1.0.1)\n",
            "Requirement already satisfied: zipp>=0.5 in /usr/local/lib/python3.7/dist-packages (from importlib-metadata; python_version < \"3.8\"->transformers) (3.4.1)\n",
            "Requirement already satisfied: typing-extensions>=3.6.4; python_version < \"3.8\" in /usr/local/lib/python3.7/dist-packages (from importlib-metadata; python_version < \"3.8\"->transformers) (3.7.4.3)\n",
            "Requirement already satisfied: pyparsing>=2.0.2 in /usr/local/lib/python3.7/dist-packages (from packaging->transformers) (2.4.7)\n"
          ],
          "name": "stdout"
        }
      ]
    },
    {
      "cell_type": "code",
      "metadata": {
        "id": "F2DKQmWpB7sQ"
      },
      "source": [
        "# Import libraries\n",
        "import pandas as pd\n",
        "from sklearn.model_selection import train_test_split\n",
        "from transformers import TFBertModel,  BertConfig, BertTokenizerFast\n",
        "from tensorflow.keras.losses import CategoricalCrossentropy\n",
        "from tensorflow.keras.metrics import CategoricalAccuracy\n",
        "from tensorflow.keras.models import Model\n",
        "from tensorflow.keras.utils import to_categorical\n",
        "from tensorflow.keras.optimizers import Adam\n",
        "from tensorflow.keras.callbacks import EarlyStopping\n",
        "from tensorflow.keras.initializers import TruncatedNormal\n",
        "from tensorflow.keras.layers import Input, Dropout, Dense\n",
        "import tensorflow as tf\n",
        "from sklearn import metrics\n",
        "import numpy as np\n",
        "from matplotlib import pyplot as plt"
      ],
      "execution_count": 15,
      "outputs": []
    },
    {
      "cell_type": "code",
      "metadata": {
        "id": "5M1R55dYB-GB"
      },
      "source": [
        "# Import data\n",
        "df = pd.read_csv('app_reviews_all_annotated2.csv')\n",
        "df = df[['review', 'argument_cat', 'decision_cat']]\n",
        "\n",
        "# Remove missing rows\n",
        "df = df.dropna()\n",
        "\n",
        "df = df.groupby('argument_cat').filter(lambda x : len(x) > 1)\n",
        "df = df.groupby('decision_cat').filter(lambda x : len(x) > 1)\n",
        "\n",
        "# Convert to numeric for bert\n",
        "df['Argument'] = pd.Categorical(df['argument_cat'])\n",
        "df['Decision'] = pd.Categorical(df['decision_cat'])\n",
        "df['argument_cat'] = df['Argument'].cat.codes\n",
        "df['decision_cat'] = df['Decision'].cat.codes\n",
        "\n",
        "# Split into training and testing \n",
        "df, df_test = train_test_split(df, test_size = 0.1, stratify=df[['argument_cat']])"
      ],
      "execution_count": 16,
      "outputs": []
    },
    {
      "cell_type": "code",
      "metadata": {
        "colab": {
          "base_uri": "https://localhost:8080/"
        },
        "id": "sGTVvGjlCDHd",
        "outputId": "882ceb55-4903-4015-e27c-89bcecc6c0b2"
      },
      "source": [
        "# BERT model\n",
        "modelName = 'bert-base-uncased'\n",
        "maxLen = 100\n",
        "conf = BertConfig.from_pretrained(modelName)\n",
        "conf.output_hidden_states = False\n",
        "\n",
        "# Load BERT tokenizer\n",
        "tokenizer = BertTokenizerFast.from_pretrained(pretrained_model_name_or_path = modelName, config = conf)\n",
        "\n",
        "# Load transformer BERT model\n",
        "transformerModel = TFBertModel.from_pretrained(modelName, config = conf)\n",
        "\n",
        "bert = transformerModel.layers[0]\n",
        "inputIds = Input(shape=(maxLen,), name='input_ids', dtype='int32')\n",
        "inputs = {'input_ids': inputIds}\n",
        "\n",
        "bertModel = bert(inputs)[1]\n",
        "dropout = Dropout(conf.hidden_dropout_prob, name='pooled_output')\n",
        "pooledOutput = dropout(bertModel, training=False)\n",
        "\n",
        "arg = Dense(units=len(df.argument_cat.value_counts()), kernel_initializer=TruncatedNormal(stddev=conf.initializer_range), name='argument')(pooledOutput)\n",
        "dec = Dense(units=len(df.decision_cat.value_counts()), kernel_initializer=TruncatedNormal(stddev=conf.initializer_range), name='decision')(pooledOutput)\n",
        "outputs = {'argument': arg, 'decision': dec}\n",
        "\n",
        "# Show model\n",
        "model = Model(inputs=inputs, outputs=outputs, name='BERT_For_App_Review_Classification')\n",
        "model.summary()"
      ],
      "execution_count": 17,
      "outputs": [
        {
          "output_type": "stream",
          "text": [
            "Some layers from the model checkpoint at bert-base-uncased were not used when initializing TFBertModel: ['mlm___cls', 'nsp___cls']\n",
            "- This IS expected if you are initializing TFBertModel from the checkpoint of a model trained on another task or with another architecture (e.g. initializing a BertForSequenceClassification model from a BertForPreTraining model).\n",
            "- This IS NOT expected if you are initializing TFBertModel from the checkpoint of a model that you expect to be exactly identical (initializing a BertForSequenceClassification model from a BertForSequenceClassification model).\n",
            "All the layers of TFBertModel were initialized from the model checkpoint at bert-base-uncased.\n",
            "If your task is similar to the task the model of the checkpoint was trained on, you can already use TFBertModel for predictions without further training.\n"
          ],
          "name": "stderr"
        },
        {
          "output_type": "stream",
          "text": [
            "Model: \"BERT_For_App_Review_Classification\"\n",
            "__________________________________________________________________________________________________\n",
            "Layer (type)                    Output Shape         Param #     Connected to                     \n",
            "==================================================================================================\n",
            "input_ids (InputLayer)          [(None, 100)]        0                                            \n",
            "__________________________________________________________________________________________________\n",
            "bert (TFBertMainLayer)          TFBaseModelOutputWit 109482240   input_ids[0][0]                  \n",
            "__________________________________________________________________________________________________\n",
            "pooled_output (Dropout)         (None, 768)          0           bert[0][1]                       \n",
            "__________________________________________________________________________________________________\n",
            "argument (Dense)                (None, 4)            3076        pooled_output[0][0]              \n",
            "__________________________________________________________________________________________________\n",
            "decision (Dense)                (None, 5)            3845        pooled_output[0][0]              \n",
            "==================================================================================================\n",
            "Total params: 109,489,161\n",
            "Trainable params: 109,489,161\n",
            "Non-trainable params: 0\n",
            "__________________________________________________________________________________________________\n"
          ],
          "name": "stdout"
        }
      ]
    },
    {
      "cell_type": "code",
      "metadata": {
        "colab": {
          "base_uri": "https://localhost:8080/"
        },
        "id": "heBO_9Lq-cBJ",
        "outputId": "6803259c-d63e-4116-bf1a-09d053c90689"
      },
      "source": [
        "# Training\n",
        "optimizer = Adam(learning_rate=5e-05, epsilon=1e-08, decay=0.01, clipnorm=1.0)\n",
        "loss = {'argument': CategoricalCrossentropy(from_logits = True), 'decision': CategoricalCrossentropy(from_logits = True)}\n",
        "metric = {'argument': CategoricalAccuracy('accuracy'), 'decision': CategoricalAccuracy('accuracy')}\n",
        "model.compile(optimizer = optimizer, loss = loss, metrics = metric)\n",
        "\n",
        "x = tokenizer(text=df.review.to_list(), add_special_tokens=True, max_length=maxLen, \n",
        "              truncation=True, padding=True, return_tensors='tf', return_token_type_ids = False,\n",
        "              return_attention_mask = True, verbose = True)\n",
        "\n",
        "history = model.fit(x={'input_ids': x['input_ids']}, y={'argument': to_categorical(df.argument_cat), 'decision': to_categorical(df.decision_cat)},\n",
        "                    validation_split=0.1, batch_size=64, epochs=15)"
      ],
      "execution_count": 32,
      "outputs": [
        {
          "output_type": "stream",
          "text": [
            "Epoch 1/15\n",
            "35/35 [==============================] - 65s 1s/step - loss: 0.0517 - argument_loss: 0.0388 - decision_loss: 0.0129 - argument_accuracy: 0.9875 - decision_accuracy: 0.9960 - val_loss: 1.0252 - val_argument_loss: 0.4674 - val_decision_loss: 0.5579 - val_argument_accuracy: 0.9076 - val_decision_accuracy: 0.8996\n",
            "Epoch 2/15\n",
            "35/35 [==============================] - 44s 1s/step - loss: 0.0397 - argument_loss: 0.0230 - decision_loss: 0.0166 - argument_accuracy: 0.9920 - decision_accuracy: 0.9951 - val_loss: 1.1741 - val_argument_loss: 0.5376 - val_decision_loss: 0.6365 - val_argument_accuracy: 0.8876 - val_decision_accuracy: 0.8916\n",
            "Epoch 3/15\n",
            "35/35 [==============================] - 44s 1s/step - loss: 0.0269 - argument_loss: 0.0163 - decision_loss: 0.0106 - argument_accuracy: 0.9960 - decision_accuracy: 0.9978 - val_loss: 1.1337 - val_argument_loss: 0.5111 - val_decision_loss: 0.6226 - val_argument_accuracy: 0.9116 - val_decision_accuracy: 0.9036\n",
            "Epoch 4/15\n",
            "35/35 [==============================] - 44s 1s/step - loss: 0.0148 - argument_loss: 0.0122 - decision_loss: 0.0025 - argument_accuracy: 0.9973 - decision_accuracy: 1.0000 - val_loss: 1.0627 - val_argument_loss: 0.4436 - val_decision_loss: 0.6191 - val_argument_accuracy: 0.9157 - val_decision_accuracy: 0.9076\n",
            "Epoch 5/15\n",
            "35/35 [==============================] - 44s 1s/step - loss: 0.0072 - argument_loss: 0.0049 - decision_loss: 0.0023 - argument_accuracy: 0.9996 - decision_accuracy: 0.9996 - val_loss: 1.1358 - val_argument_loss: 0.5213 - val_decision_loss: 0.6145 - val_argument_accuracy: 0.9036 - val_decision_accuracy: 0.8996\n",
            "Epoch 6/15\n",
            "35/35 [==============================] - 44s 1s/step - loss: 0.0065 - argument_loss: 0.0049 - decision_loss: 0.0016 - argument_accuracy: 0.9987 - decision_accuracy: 1.0000 - val_loss: 1.0698 - val_argument_loss: 0.4629 - val_decision_loss: 0.6070 - val_argument_accuracy: 0.9116 - val_decision_accuracy: 0.9116\n",
            "Epoch 7/15\n",
            "35/35 [==============================] - 44s 1s/step - loss: 0.0045 - argument_loss: 0.0030 - decision_loss: 0.0015 - argument_accuracy: 0.9996 - decision_accuracy: 1.0000 - val_loss: 1.0976 - val_argument_loss: 0.4923 - val_decision_loss: 0.6053 - val_argument_accuracy: 0.9116 - val_decision_accuracy: 0.8996\n",
            "Epoch 8/15\n",
            "35/35 [==============================] - 44s 1s/step - loss: 0.0035 - argument_loss: 0.0017 - decision_loss: 0.0018 - argument_accuracy: 1.0000 - decision_accuracy: 1.0000 - val_loss: 1.1297 - val_argument_loss: 0.4979 - val_decision_loss: 0.6318 - val_argument_accuracy: 0.9157 - val_decision_accuracy: 0.8996\n",
            "Epoch 9/15\n",
            "35/35 [==============================] - 44s 1s/step - loss: 0.0027 - argument_loss: 0.0015 - decision_loss: 0.0012 - argument_accuracy: 1.0000 - decision_accuracy: 1.0000 - val_loss: 1.1384 - val_argument_loss: 0.5070 - val_decision_loss: 0.6314 - val_argument_accuracy: 0.9197 - val_decision_accuracy: 0.8996\n",
            "Epoch 10/15\n",
            "35/35 [==============================] - 44s 1s/step - loss: 0.0026 - argument_loss: 0.0013 - decision_loss: 0.0013 - argument_accuracy: 1.0000 - decision_accuracy: 1.0000 - val_loss: 1.1443 - val_argument_loss: 0.5094 - val_decision_loss: 0.6349 - val_argument_accuracy: 0.9157 - val_decision_accuracy: 0.8996\n",
            "Epoch 11/15\n",
            "35/35 [==============================] - 44s 1s/step - loss: 0.0037 - argument_loss: 0.0025 - decision_loss: 0.0012 - argument_accuracy: 0.9991 - decision_accuracy: 1.0000 - val_loss: 1.1445 - val_argument_loss: 0.4992 - val_decision_loss: 0.6453 - val_argument_accuracy: 0.9157 - val_decision_accuracy: 0.8996\n",
            "Epoch 12/15\n",
            "35/35 [==============================] - 44s 1s/step - loss: 0.0037 - argument_loss: 0.0020 - decision_loss: 0.0017 - argument_accuracy: 0.9996 - decision_accuracy: 0.9996 - val_loss: 1.1466 - val_argument_loss: 0.5123 - val_decision_loss: 0.6343 - val_argument_accuracy: 0.9076 - val_decision_accuracy: 0.8996\n",
            "Epoch 13/15\n",
            "35/35 [==============================] - 44s 1s/step - loss: 0.0030 - argument_loss: 0.0013 - decision_loss: 0.0017 - argument_accuracy: 1.0000 - decision_accuracy: 1.0000 - val_loss: 1.1905 - val_argument_loss: 0.5069 - val_decision_loss: 0.6836 - val_argument_accuracy: 0.9157 - val_decision_accuracy: 0.8916\n",
            "Epoch 14/15\n",
            "35/35 [==============================] - 44s 1s/step - loss: 0.0032 - argument_loss: 0.0011 - decision_loss: 0.0021 - argument_accuracy: 1.0000 - decision_accuracy: 0.9991 - val_loss: 1.1460 - val_argument_loss: 0.4954 - val_decision_loss: 0.6505 - val_argument_accuracy: 0.9157 - val_decision_accuracy: 0.9036\n",
            "Epoch 15/15\n",
            "35/35 [==============================] - 44s 1s/step - loss: 0.0028 - argument_loss: 0.0014 - decision_loss: 0.0014 - argument_accuracy: 1.0000 - decision_accuracy: 0.9996 - val_loss: 1.1944 - val_argument_loss: 0.5119 - val_decision_loss: 0.6825 - val_argument_accuracy: 0.9237 - val_decision_accuracy: 0.8876\n"
          ],
          "name": "stdout"
        }
      ]
    },
    {
      "cell_type": "code",
      "metadata": {
        "colab": {
          "base_uri": "https://localhost:8080/",
          "height": 609
        },
        "id": "Pe1c1JnX5jPN",
        "outputId": "1a1f31a2-8751-49e3-f06d-2ead30486aa2"
      },
      "source": [
        "plt.plot(history.history['argument_accuracy'])\n",
        "plt.plot(history.history['val_argument_accuracy'])\n",
        "plt.title('Model accuracy for argument')\n",
        "plt.ylabel('accuracy')\n",
        "plt.xlabel('epoch')\n",
        "plt.legend(['train', 'val'], loc='upper left')\n",
        "plt.show()\n",
        "print(\"\\n\")\n",
        "plt.plot(history.history['argument_loss'])\n",
        "plt.plot(history.history['val_argument_loss'])\n",
        "plt.title('Model loss for argument')\n",
        "plt.ylabel('loss')\n",
        "plt.xlabel('epoch')\n",
        "plt.legend(['train', 'val'], loc='upper left')\n",
        "plt.show()"
      ],
      "execution_count": 33,
      "outputs": [
        {
          "output_type": "display_data",
          "data": {
            "image/png": "[encoded data removed]",
            "text/plain": [
              "<Figure size 432x288 with 1 Axes>"
            ]
          },
          "metadata": {
            "tags": [],
            "needs_background": "light"
          }
        },
        {
          "output_type": "stream",
          "text": [
            "\n",
            "\n"
          ],
          "name": "stdout"
        },
        {
          "output_type": "display_data",
          "data": {
            "image/png": "[encoded data removed]",
            "text/plain": [
              "<Figure size 432x288 with 1 Axes>"
            ]
          },
          "metadata": {
            "tags": [],
            "needs_background": "light"
          }
        }
      ]
    },
    {
      "cell_type": "code",
      "metadata": {
        "colab": {
          "base_uri": "https://localhost:8080/",
          "height": 609
        },
        "id": "rq7rzpwJ_MH0",
        "outputId": "aee86173-6eca-4470-f589-eddde69f980e"
      },
      "source": [
        "plt.plot(history.history['decision_accuracy'])\n",
        "plt.plot(history.history['val_decision_accuracy'])\n",
        "plt.title('Model accuracy for decision')\n",
        "plt.ylabel('accuracy')\n",
        "plt.xlabel('epoch')\n",
        "plt.legend(['train', 'val'], loc='upper left')\n",
        "plt.show()\n",
        "print(\"\\n\")\n",
        "plt.plot(history.history['decision_loss'])\n",
        "plt.plot(history.history['val_decision_loss'])\n",
        "plt.title('Model loss for decision')\n",
        "plt.ylabel('loss')\n",
        "plt.xlabel('epoch')\n",
        "plt.legend(['train', 'val'], loc='upper left')\n",
        "plt.show()"
      ],
      "execution_count": 34,
      "outputs": [
        {
          "output_type": "display_data",
          "data": {
            "image/png": "[encoded data removed]",
            "text/plain": [
              "<Figure size 432x288 with 1 Axes>"
            ]
          },
          "metadata": {
            "tags": [],
            "needs_background": "light"
          }
        },
        {
          "output_type": "stream",
          "text": [
            "\n",
            "\n"
          ],
          "name": "stdout"
        },
        {
          "output_type": "display_data",
          "data": {
            "image/png": "[encoded data removed]",
            "text/plain": [
              "<Figure size 432x288 with 1 Axes>"
            ]
          },
          "metadata": {
            "tags": [],
            "needs_background": "light"
          }
        }
      ]
    },
    {
      "cell_type": "code",
      "metadata": {
        "colab": {
          "base_uri": "https://localhost:8080/"
        },
        "id": "t2kiSeCDBDXY",
        "outputId": "f698cfcb-bdb3-4d9d-b1fc-fd9f2644a2c0"
      },
      "source": [
        "# Evaluation\n",
        "testArg = to_categorical(df_test['argument_cat'], 4)\n",
        "testDec = to_categorical(df_test['decision_cat'])\n",
        "testReview = tokenizer(text=df_test['review'].to_list(), add_special_tokens=True,\n",
        "                         max_length=maxLen, truncation=True, padding=True, \n",
        "                         return_tensors='tf', return_token_type_ids = False,\n",
        "                         return_attention_mask = False, verbose = True)\n",
        "modelEval = model.evaluate(x={'input_ids': testReview['input_ids']},\n",
        "                                 y={'argument': testArg, 'decision': testDec})\n",
        "modelPred = model.predict({'input_ids': testReview['input_ids']})"
      ],
      "execution_count": 35,
      "outputs": [
        {
          "output_type": "stream",
          "text": [
            "9/9 [==============================] - 2s 203ms/step - loss: 1.4354 - argument_loss: 0.7373 - decision_loss: 0.6981 - argument_accuracy: 0.8917 - decision_accuracy: 0.8917\n"
          ],
          "name": "stdout"
        }
      ]
    },
    {
      "cell_type": "code",
      "metadata": {
        "colab": {
          "base_uri": "https://localhost:8080/"
        },
        "id": "5hi7g45x5seW",
        "outputId": "156854af-805e-46a4-e46e-3c5eef722c53"
      },
      "source": [
        "print('For argument category:')\n",
        "argumentPred =  tf.argmax(modelPred['argument'], axis=1).numpy()\n",
        "y_pred = np.around(argumentPred)\n",
        "print(metrics.classification_report(df_test.argument_cat, y_pred))"
      ],
      "execution_count": 38,
      "outputs": [
        {
          "output_type": "stream",
          "text": [
            "For argument category:\n",
            "              precision    recall  f1-score   support\n",
            "\n",
            "           0       0.00      0.00      0.00         1\n",
            "           1       0.91      0.97      0.94       234\n",
            "           2       0.74      0.48      0.58        42\n",
            "\n",
            "    accuracy                           0.89       277\n",
            "   macro avg       0.55      0.48      0.51       277\n",
            "weighted avg       0.88      0.89      0.88       277\n",
            "\n"
          ],
          "name": "stdout"
        },
        {
          "output_type": "stream",
          "text": [
            "/usr/local/lib/python3.7/dist-packages/sklearn/metrics/_classification.py:1272: UndefinedMetricWarning: Precision and F-score are ill-defined and being set to 0.0 in labels with no predicted samples. Use `zero_division` parameter to control this behavior.\n",
            "  _warn_prf(average, modifier, msg_start, len(result))\n"
          ],
          "name": "stderr"
        }
      ]
    },
    {
      "cell_type": "code",
      "metadata": {
        "colab": {
          "base_uri": "https://localhost:8080/"
        },
        "id": "kQAAhwne_nHH",
        "outputId": "56a7250e-4725-4d79-bed1-bc1f62eba4b9"
      },
      "source": [
        "print('For decision category:')\n",
        "decisionPred =  tf.argmax(modelPred['decision'], axis=1).numpy()\n",
        "y_pred = np.around(decisionPred)\n",
        "print(metrics.classification_report(df_test.decision_cat, y_pred))"
      ],
      "execution_count": 37,
      "outputs": [
        {
          "output_type": "stream",
          "text": [
            "For decision category:\n",
            "              precision    recall  f1-score   support\n",
            "\n",
            "           0       0.88      0.91      0.90       125\n",
            "           1       0.86      0.60      0.71        10\n",
            "           2       0.94      0.94      0.94        34\n",
            "           3       0.91      0.96      0.94        76\n",
            "           4       0.81      0.69      0.75        32\n",
            "\n",
            "    accuracy                           0.89       277\n",
            "   macro avg       0.88      0.82      0.85       277\n",
            "weighted avg       0.89      0.89      0.89       277\n",
            "\n"
          ],
          "name": "stdout"
        }
      ]
    }
  ]
}
