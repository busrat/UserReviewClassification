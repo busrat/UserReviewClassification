{
  "nbformat": 4,
  "nbformat_minor": 0,
  "metadata": {
    "accelerator": "GPU",
    "colab": {
      "name": "bert.ipynb",
      "provenance": [],
      "collapsed_sections": []
    },
    "kernelspec": {
      "display_name": "Python 3",
      "name": "python3"
    },
    "language_info": {
      "name": "python"
    }
  },
  "cells": [
    {
      "cell_type": "code",
      "metadata": {
        "colab": {
          "base_uri": "https://localhost:8080/"
        },
        "id": "tvbwu3oCB3MH",
        "outputId": "34274059-983a-4cc1-a314-8c14c81eadca"
      },
      "source": [
        "!pip install transformers\n",
        "# !pip install tensorflow"
      ],
      "execution_count": null,
      "outputs": [
        {
          "output_type": "stream",
          "text": [
            "Requirement already satisfied: transformers in /usr/local/lib/python3.7/dist-packages (4.6.1)\n",
            "Requirement already satisfied: filelock in /usr/local/lib/python3.7/dist-packages (from transformers) (3.0.12)\n",
            "Requirement already satisfied: huggingface-hub==0.0.8 in /usr/local/lib/python3.7/dist-packages (from transformers) (0.0.8)\n",
            "Requirement already satisfied: sacremoses in /usr/local/lib/python3.7/dist-packages (from transformers) (0.0.45)\n",
            "Requirement already satisfied: tokenizers<0.11,>=0.10.1 in /usr/local/lib/python3.7/dist-packages (from transformers) (0.10.3)\n",
            "Requirement already satisfied: regex!=2019.12.17 in /usr/local/lib/python3.7/dist-packages (from transformers) (2019.12.20)\n",
            "Requirement already satisfied: numpy>=1.17 in /usr/local/lib/python3.7/dist-packages (from transformers) (1.19.5)\n",
            "Requirement already satisfied: requests in /usr/local/lib/python3.7/dist-packages (from transformers) (2.23.0)\n",
            "Requirement already satisfied: importlib-metadata; python_version < \"3.8\" in /usr/local/lib/python3.7/dist-packages (from transformers) (4.5.0)\n",
            "Requirement already satisfied: tqdm>=4.27 in /usr/local/lib/python3.7/dist-packages (from transformers) (4.41.1)\n",
            "Requirement already satisfied: packaging in /usr/local/lib/python3.7/dist-packages (from transformers) (20.9)\n",
            "Requirement already satisfied: joblib in /usr/local/lib/python3.7/dist-packages (from sacremoses->transformers) (1.0.1)\n",
            "Requirement already satisfied: click in /usr/local/lib/python3.7/dist-packages (from sacremoses->transformers) (7.1.2)\n",
            "Requirement already satisfied: six in /usr/local/lib/python3.7/dist-packages (from sacremoses->transformers) (1.15.0)\n",
            "Requirement already satisfied: idna<3,>=2.5 in /usr/local/lib/python3.7/dist-packages (from requests->transformers) (2.10)\n",
            "Requirement already satisfied: certifi>=2017.4.17 in /usr/local/lib/python3.7/dist-packages (from requests->transformers) (2021.5.30)\n",
            "Requirement already satisfied: urllib3!=1.25.0,!=1.25.1,<1.26,>=1.21.1 in /usr/local/lib/python3.7/dist-packages (from requests->transformers) (1.24.3)\n",
            "Requirement already satisfied: chardet<4,>=3.0.2 in /usr/local/lib/python3.7/dist-packages (from requests->transformers) (3.0.4)\n",
            "Requirement already satisfied: typing-extensions>=3.6.4; python_version < \"3.8\" in /usr/local/lib/python3.7/dist-packages (from importlib-metadata; python_version < \"3.8\"->transformers) (3.7.4.3)\n",
            "Requirement already satisfied: zipp>=0.5 in /usr/local/lib/python3.7/dist-packages (from importlib-metadata; python_version < \"3.8\"->transformers) (3.4.1)\n",
            "Requirement already satisfied: pyparsing>=2.0.2 in /usr/local/lib/python3.7/dist-packages (from packaging->transformers) (2.4.7)\n"
          ],
          "name": "stdout"
        }
      ]
    },
    {
      "cell_type": "code",
      "metadata": {
        "colab": {
          "base_uri": "https://localhost:8080/"
        },
        "id": "RQ5gt_M2FeXV",
        "outputId": "8096207b-f69b-4eb4-b900-5c93358e906a"
      },
      "source": [
        "!ls /content/drive/MyDrive/app_reviews_all_annotated2.csv"
      ],
      "execution_count": null,
      "outputs": [
        {
          "output_type": "stream",
          "text": [
            "/content/drive/MyDrive/app_reviews_all_annotated2.csv\n"
          ],
          "name": "stdout"
        }
      ]
    },
    {
      "cell_type": "code",
      "metadata": {
        "id": "F2DKQmWpB7sQ"
      },
      "source": [
        "# Import libraries\n",
        "import pandas as pd\n",
        "from sklearn.model_selection import train_test_split\n",
        "from transformers import TFBertModel,  BertConfig, BertTokenizerFast\n",
        "from tensorflow.keras.losses import CategoricalCrossentropy\n",
        "from tensorflow.keras.metrics import CategoricalAccuracy\n",
        "from tensorflow.keras.metrics import Precision\n",
        "from tensorflow.keras.metrics import Recall\n",
        "from tensorflow.keras import metrics \n",
        "from tensorflow.keras.models import Model\n",
        "from tensorflow.keras.utils import to_categorical\n",
        "from tensorflow.keras.optimizers import Adam\n",
        "from tensorflow.keras.callbacks import EarlyStopping\n",
        "from tensorflow.keras.initializers import TruncatedNormal\n",
        "from tensorflow.keras.layers import Input, Dropout, Dense\n",
        "import tensorflow.keras.activations as activations"
      ],
      "execution_count": null,
      "outputs": []
    },
    {
      "cell_type": "code",
      "metadata": {
        "colab": {
          "base_uri": "https://localhost:8080/"
        },
        "id": "dKC6aQaIbFwT",
        "outputId": "b0ada73d-a128-4492-f98e-5182bbc367f2"
      },
      "source": [
        "!pip install tensorflow_addons\n",
        "import tensorflow_addons as tfa"
      ],
      "execution_count": null,
      "outputs": [
        {
          "output_type": "stream",
          "text": [
            "Requirement already satisfied: tensorflow_addons in /usr/local/lib/python3.7/dist-packages (0.13.0)\n",
            "Requirement already satisfied: typeguard>=2.7 in /usr/local/lib/python3.7/dist-packages (from tensorflow_addons) (2.7.1)\n"
          ],
          "name": "stdout"
        }
      ]
    },
    {
      "cell_type": "code",
      "metadata": {
        "id": "5M1R55dYB-GB"
      },
      "source": [
        "# Import data\n",
        "df = pd.read_csv('/content/drive/MyDrive/app_reviews_all_annotated2.csv')\n",
        "df = df[['review', 'argument_cat', 'decision_cat']]\n",
        "\n",
        "# Remove missing rows\n",
        "df = df.dropna()\n",
        "\n",
        "df = df.groupby('argument_cat').filter(lambda x : len(x) > 1)\n",
        "df = df.groupby('decision_cat').filter(lambda x : len(x) > 1)\n",
        "\n",
        "# Convert to numeric for bert\n",
        "df['Argument'] = pd.Categorical(df['argument_cat'])\n",
        "df['Decision'] = pd.Categorical(df['decision_cat'])\n",
        "df['argument_cat'] = df['Argument'].cat.codes\n",
        "df['decision_cat'] = df['Decision'].cat.codes\n",
        "\n",
        "# Split into training and testing \n",
        "df, df_test = train_test_split(df, test_size = 0.1, stratify=df[['argument_cat']])"
      ],
      "execution_count": null,
      "outputs": []
    },
    {
      "cell_type": "code",
      "metadata": {
        "colab": {
          "base_uri": "https://localhost:8080/"
        },
        "id": "6KSBWFBPFT-a",
        "outputId": "3bbaed6c-b49f-451b-bc56-346367a4f88a"
      },
      "source": [
        "from google.colab import drive\n",
        "drive.mount('/content/drive')"
      ],
      "execution_count": null,
      "outputs": [
        {
          "output_type": "stream",
          "text": [
            "Drive already mounted at /content/drive; to attempt to forcibly remount, call drive.mount(\"/content/drive\", force_remount=True).\n"
          ],
          "name": "stdout"
        }
      ]
    },
    {
      "cell_type": "code",
      "metadata": {
        "colab": {
          "base_uri": "https://localhost:8080/"
        },
        "id": "sGTVvGjlCDHd",
        "outputId": "25e8bb2b-b9f4-4d24-b32c-c3e6f807568e"
      },
      "source": [
        "# BERT model\n",
        "modelName = 'bert-base-uncased'\n",
        "maxLen = 100\n",
        "conf = BertConfig.from_pretrained(modelName)\n",
        "conf.output_hidden_states = False\n",
        "\n",
        "# Load BERT tokenizer\n",
        "tokenizer = BertTokenizerFast.from_pretrained(pretrained_model_name_or_path = modelName, config = conf)\n",
        "\n",
        "# Load transformer BERT model\n",
        "transformerModel = TFBertModel.from_pretrained(modelName, config = conf)\n",
        "\n",
        "bert = transformerModel.layers[0]\n",
        "inputIds = Input(shape=(maxLen,), name='input_ids', dtype='int32')\n",
        "inputs = {'input_ids': inputIds}\n",
        "\n",
        "bertModel = bert(inputs)[1]\n",
        "dropout = Dropout(conf.hidden_dropout_prob, name='pooled_output')\n",
        "pooledOutput = dropout(bertModel, training=False)\n",
        "\n",
        "arg = Dense(units=len(df.argument_cat.value_counts()), kernel_initializer=TruncatedNormal(stddev=conf.initializer_range), name='argument',activation='sigmoid')(pooledOutput)\n",
        "dec = Dense(units=len(df.decision_cat.value_counts()), kernel_initializer=TruncatedNormal(stddev=conf.initializer_range), name='decision',activation='sigmoid')(pooledOutput)\n",
        "\n",
        "#arg = activations.sigmoid(arg)\n",
        "#dec = activations.sigmoid(dec)\n",
        "\n",
        "outputs = {'argument': arg, 'decision': dec}\n",
        "\n",
        "# Show model\n",
        "model = Model(inputs=inputs, outputs=outputs, name='BERT_For_App_Review_Classification')\n",
        "model.summary()"
      ],
      "execution_count": null,
      "outputs": [
        {
          "output_type": "stream",
          "text": [
            "Some layers from the model checkpoint at bert-base-uncased were not used when initializing TFBertModel: ['mlm___cls', 'nsp___cls']\n",
            "- This IS expected if you are initializing TFBertModel from the checkpoint of a model trained on another task or with another architecture (e.g. initializing a BertForSequenceClassification model from a BertForPreTraining model).\n",
            "- This IS NOT expected if you are initializing TFBertModel from the checkpoint of a model that you expect to be exactly identical (initializing a BertForSequenceClassification model from a BertForSequenceClassification model).\n",
            "All the layers of TFBertModel were initialized from the model checkpoint at bert-base-uncased.\n",
            "If your task is similar to the task the model of the checkpoint was trained on, you can already use TFBertModel for predictions without further training.\n"
          ],
          "name": "stderr"
        },
        {
          "output_type": "stream",
          "text": [
            "WARNING:tensorflow:From /usr/local/lib/python3.7/dist-packages/tensorflow/python/ops/array_ops.py:5049: calling gather (from tensorflow.python.ops.array_ops) with validate_indices is deprecated and will be removed in a future version.\n",
            "Instructions for updating:\n",
            "The `validate_indices` argument has no effect. Indices are always validated on CPU and never validated on GPU.\n",
            "Model: \"BERT_For_App_Review_Classification\"\n",
            "__________________________________________________________________________________________________\n",
            "Layer (type)                    Output Shape         Param #     Connected to                     \n",
            "==================================================================================================\n",
            "input_ids (InputLayer)          [(None, 100)]        0                                            \n",
            "__________________________________________________________________________________________________\n",
            "bert (TFBertMainLayer)          TFBaseModelOutputWit 109482240   input_ids[0][0]                  \n",
            "__________________________________________________________________________________________________\n",
            "pooled_output (Dropout)         (None, 768)          0           bert[0][1]                       \n",
            "__________________________________________________________________________________________________\n",
            "argument (Dense)                (None, 4)            3076        pooled_output[0][0]              \n",
            "__________________________________________________________________________________________________\n",
            "decision (Dense)                (None, 5)            3845        pooled_output[0][0]              \n",
            "==================================================================================================\n",
            "Total params: 109,489,161\n",
            "Trainable params: 109,489,161\n",
            "Non-trainable params: 0\n",
            "__________________________________________________________________________________________________\n"
          ],
          "name": "stdout"
        }
      ]
    },
    {
      "cell_type": "code",
      "metadata": {
        "colab": {
          "background_save": true,
          "base_uri": "https://localhost:8080/"
        },
        "id": "heBO_9Lq-cBJ",
        "outputId": "efaac920-e071-4c23-c0c9-7f3c4088cc9f"
      },
      "source": [
        "# Training\n",
        "optimizer = Adam(learning_rate=5e-05, epsilon=1e-08, decay=0.01, clipnorm=1.0)\n",
        "loss = {'argument': CategoricalCrossentropy(from_logits = False), 'decision': CategoricalCrossentropy(from_logits = False)}\n",
        "#metric = {'argument': CategoricalAccuracy('accuracy'), 'decision': CategoricalAccuracy('accuracy')}\n",
        "metric = {'argument': tfa.metrics.F1Score(num_classes=4,\n",
        "    average=None,\n",
        "    threshold=0.5,\n",
        "    name='f1_score')\n",
        ", 'decision': tfa.metrics.F1Score(\n",
        "    num_classes=5,\n",
        "    average = None,\n",
        "    threshold=0.5,\n",
        "    name= 'f1_score'\n",
        ")}\n",
        "model.compile(optimizer = optimizer, loss = loss, metrics = metric)\n",
        "\n",
        "x = tokenizer(text=df.review.to_list(), add_special_tokens=True, max_length=maxLen, \n",
        "              truncation=True, padding=True, return_tensors='tf', return_token_type_ids = False,\n",
        "              return_attention_mask = True, verbose = True)\n",
        "\n",
        "history = model.fit(x={'input_ids': x['input_ids']}, y={'argument': to_categorical(df.argument_cat), 'decision': to_categorical(df.decision_cat)},\n",
        "                    validation_split=0.1, batch_size=64, epochs=40)"
      ],
      "execution_count": null,
      "outputs": [
        {
          "output_type": "stream",
          "text": [
            "Epoch 1/40\n",
            "35/35 [==============================] - ETA: 0s - loss: 1.9319 - argument_loss: 0.5513 - decision_loss: 1.3806 - argument_f1_score: 0.3015 - decision_f1_score: 0.2508"
          ],
          "name": "stdout"
        },
        {
          "output_type": "stream",
          "text": [
            "/usr/local/lib/python3.7/dist-packages/tensorflow/python/keras/metrics.py:257: UserWarning: Metric F1Score implements a `reset_states()` method; rename it to `reset_state()` (without the final \"s\"). The name `reset_states()` has been deprecated to improve API consistency.\n",
            "  'consistency.' % (self.__class__.__name__,))\n"
          ],
          "name": "stderr"
        },
        {
          "output_type": "stream",
          "text": [
            "35/35 [==============================] - 64s 1s/step - loss: 1.9319 - argument_loss: 0.5513 - decision_loss: 1.3806 - argument_f1_score: 0.3015 - decision_f1_score: 0.2508 - val_loss: 1.7396 - val_argument_loss: 0.3353 - val_decision_loss: 1.4044 - val_argument_f1_score: 0.2991 - val_decision_f1_score: 0.2454\n",
            "Epoch 2/40\n",
            "35/35 [==============================] - 44s 1s/step - loss: 1.6577 - argument_loss: 0.3541 - decision_loss: 1.3036 - argument_f1_score: 0.3060 - decision_f1_score: 0.2905 - val_loss: 1.5216 - val_argument_loss: 0.3280 - val_decision_loss: 1.1936 - val_argument_f1_score: 0.3343 - val_decision_f1_score: 0.4381\n",
            "Epoch 3/40\n",
            "35/35 [==============================] - 44s 1s/step - loss: 1.2024 - argument_loss: 0.3181 - decision_loss: 0.8843 - argument_f1_score: 0.3204 - decision_f1_score: 0.4815 - val_loss: 0.8635 - val_argument_loss: 0.2885 - val_decision_loss: 0.5749 - val_argument_f1_score: 0.3302 - val_decision_f1_score: 0.6367\n",
            "Epoch 4/40\n",
            "35/35 [==============================] - 44s 1s/step - loss: 0.7871 - argument_loss: 0.2805 - decision_loss: 0.5066 - argument_f1_score: 0.3504 - decision_f1_score: 0.6606 - val_loss: 0.6010 - val_argument_loss: 0.2407 - val_decision_loss: 0.3603 - val_argument_f1_score: 0.3878 - val_decision_f1_score: 0.7174\n",
            "Epoch 5/40\n",
            "35/35 [==============================] - 44s 1s/step - loss: 0.5604 - argument_loss: 0.2328 - decision_loss: 0.3276 - argument_f1_score: 0.3648 - decision_f1_score: 0.7238 - val_loss: 0.4665 - val_argument_loss: 0.2023 - val_decision_loss: 0.2642 - val_argument_f1_score: 0.3725 - val_decision_f1_score: 0.7523\n",
            "Epoch 6/40\n",
            "35/35 [==============================] - 44s 1s/step - loss: 0.4091 - argument_loss: 0.1990 - decision_loss: 0.2102 - argument_f1_score: 0.3786 - decision_f1_score: 0.7830 - val_loss: 0.4451 - val_argument_loss: 0.1840 - val_decision_loss: 0.2611 - val_argument_f1_score: 0.3740 - val_decision_f1_score: 0.7560\n",
            "Epoch 7/40\n",
            "35/35 [==============================] - 44s 1s/step - loss: 0.3072 - argument_loss: 0.1548 - decision_loss: 0.1524 - argument_f1_score: 0.3902 - decision_f1_score: 0.8098 - val_loss: 0.3955 - val_argument_loss: 0.1732 - val_decision_loss: 0.2223 - val_argument_f1_score: 0.4036 - val_decision_f1_score: 0.7888\n",
            "Epoch 8/40\n",
            "35/35 [==============================] - 44s 1s/step - loss: 0.2315 - argument_loss: 0.1190 - decision_loss: 0.1124 - argument_f1_score: 0.4090 - decision_f1_score: 0.8509 - val_loss: 0.4130 - val_argument_loss: 0.1981 - val_decision_loss: 0.2149 - val_argument_f1_score: 0.4080 - val_decision_f1_score: 0.8404\n",
            "Epoch 9/40\n",
            "35/35 [==============================] - 44s 1s/step - loss: 0.1769 - argument_loss: 0.0926 - decision_loss: 0.0843 - argument_f1_score: 0.4230 - decision_f1_score: 0.8562 - val_loss: 0.4017 - val_argument_loss: 0.1951 - val_decision_loss: 0.2066 - val_argument_f1_score: 0.4015 - val_decision_f1_score: 0.8243\n",
            "Epoch 10/40\n",
            "35/35 [==============================] - 44s 1s/step - loss: 0.1404 - argument_loss: 0.0689 - decision_loss: 0.0715 - argument_f1_score: 0.4344 - decision_f1_score: 0.8714 - val_loss: 0.4054 - val_argument_loss: 0.2012 - val_decision_loss: 0.2043 - val_argument_f1_score: 0.4223 - val_decision_f1_score: 0.8434\n",
            "Epoch 11/40\n",
            "35/35 [==============================] - 44s 1s/step - loss: 0.1109 - argument_loss: 0.0561 - decision_loss: 0.0548 - argument_f1_score: 0.4473 - decision_f1_score: 0.8912 - val_loss: 0.4026 - val_argument_loss: 0.2001 - val_decision_loss: 0.2025 - val_argument_f1_score: 0.4184 - val_decision_f1_score: 0.8492\n",
            "Epoch 12/40\n",
            "35/35 [==============================] - 44s 1s/step - loss: 0.1001 - argument_loss: 0.0489 - decision_loss: 0.0512 - argument_f1_score: 0.4538 - decision_f1_score: 0.9033 - val_loss: 0.4207 - val_argument_loss: 0.2199 - val_decision_loss: 0.2008 - val_argument_f1_score: 0.4228 - val_decision_f1_score: 0.8525\n",
            "Epoch 13/40\n",
            "35/35 [==============================] - 44s 1s/step - loss: 0.0823 - argument_loss: 0.0380 - decision_loss: 0.0444 - argument_f1_score: 0.4639 - decision_f1_score: 0.9096 - val_loss: 0.4294 - val_argument_loss: 0.2267 - val_decision_loss: 0.2027 - val_argument_f1_score: 0.4138 - val_decision_f1_score: 0.8755\n",
            "Epoch 14/40\n",
            "35/35 [==============================] - 44s 1s/step - loss: 0.0726 - argument_loss: 0.0338 - decision_loss: 0.0388 - argument_f1_score: 0.4685 - decision_f1_score: 0.9121 - val_loss: 0.4363 - val_argument_loss: 0.2272 - val_decision_loss: 0.2091 - val_argument_f1_score: 0.4198 - val_decision_f1_score: 0.8692\n",
            "Epoch 15/40\n",
            "35/35 [==============================] - 44s 1s/step - loss: 0.0641 - argument_loss: 0.0306 - decision_loss: 0.0335 - argument_f1_score: 0.4775 - decision_f1_score: 0.9236 - val_loss: 0.4452 - val_argument_loss: 0.2361 - val_decision_loss: 0.2090 - val_argument_f1_score: 0.4246 - val_decision_f1_score: 0.8899\n",
            "Epoch 16/40\n",
            "35/35 [==============================] - 44s 1s/step - loss: 0.0610 - argument_loss: 0.0305 - decision_loss: 0.0305 - argument_f1_score: 0.4744 - decision_f1_score: 0.9284 - val_loss: 0.4341 - val_argument_loss: 0.2303 - val_decision_loss: 0.2038 - val_argument_f1_score: 0.4186 - val_decision_f1_score: 0.8874\n",
            "Epoch 17/40\n",
            "35/35 [==============================] - 44s 1s/step - loss: 0.0552 - argument_loss: 0.0276 - decision_loss: 0.0276 - argument_f1_score: 0.4781 - decision_f1_score: 0.9375 - val_loss: 0.4300 - val_argument_loss: 0.2223 - val_decision_loss: 0.2077 - val_argument_f1_score: 0.4204 - val_decision_f1_score: 0.8876\n",
            "Epoch 18/40\n",
            "35/35 [==============================] - 44s 1s/step - loss: 0.0524 - argument_loss: 0.0266 - decision_loss: 0.0259 - argument_f1_score: 0.4790 - decision_f1_score: 0.9332 - val_loss: 0.4468 - val_argument_loss: 0.2360 - val_decision_loss: 0.2108 - val_argument_f1_score: 0.4233 - val_decision_f1_score: 0.8834\n",
            "Epoch 19/40\n",
            "35/35 [==============================] - 44s 1s/step - loss: 0.0477 - argument_loss: 0.0243 - decision_loss: 0.0235 - argument_f1_score: 0.5702 - decision_f1_score: 0.9441 - val_loss: 0.4482 - val_argument_loss: 0.2333 - val_decision_loss: 0.2149 - val_argument_f1_score: 0.4240 - val_decision_f1_score: 0.8893\n",
            "Epoch 20/40\n",
            "35/35 [==============================] - 44s 1s/step - loss: 0.0433 - argument_loss: 0.0212 - decision_loss: 0.0221 - argument_f1_score: 0.4859 - decision_f1_score: 0.9510 - val_loss: 0.4590 - val_argument_loss: 0.2375 - val_decision_loss: 0.2215 - val_argument_f1_score: 0.4204 - val_decision_f1_score: 0.8839\n",
            "Epoch 21/40\n",
            "35/35 [==============================] - 44s 1s/step - loss: 0.0422 - argument_loss: 0.0210 - decision_loss: 0.0212 - argument_f1_score: 0.4886 - decision_f1_score: 0.9482 - val_loss: 0.4550 - val_argument_loss: 0.2361 - val_decision_loss: 0.2189 - val_argument_f1_score: 0.4219 - val_decision_f1_score: 0.9010\n",
            "Epoch 22/40\n",
            "35/35 [==============================] - 44s 1s/step - loss: 0.0401 - argument_loss: 0.0202 - decision_loss: 0.0199 - argument_f1_score: 0.6125 - decision_f1_score: 0.9491 - val_loss: 0.4494 - val_argument_loss: 0.2321 - val_decision_loss: 0.2173 - val_argument_f1_score: 0.4313 - val_decision_f1_score: 0.9008\n",
            "Epoch 23/40\n",
            "35/35 [==============================] - 44s 1s/step - loss: 0.0389 - argument_loss: 0.0202 - decision_loss: 0.0187 - argument_f1_score: 0.4891 - decision_f1_score: 0.9592 - val_loss: 0.4500 - val_argument_loss: 0.2295 - val_decision_loss: 0.2204 - val_argument_f1_score: 0.4272 - val_decision_f1_score: 0.8996\n",
            "Epoch 24/40\n",
            "35/35 [==============================] - 44s 1s/step - loss: 0.0350 - argument_loss: 0.0172 - decision_loss: 0.0178 - argument_f1_score: 0.6530 - decision_f1_score: 0.9513 - val_loss: 0.4596 - val_argument_loss: 0.2347 - val_decision_loss: 0.2250 - val_argument_f1_score: 0.4301 - val_decision_f1_score: 0.9005\n",
            "Epoch 25/40\n",
            "35/35 [==============================] - 44s 1s/step - loss: 0.0330 - argument_loss: 0.0168 - decision_loss: 0.0163 - argument_f1_score: 0.5925 - decision_f1_score: 0.9654 - val_loss: 0.4639 - val_argument_loss: 0.2356 - val_decision_loss: 0.2283 - val_argument_f1_score: 0.4308 - val_decision_f1_score: 0.9015\n",
            "Epoch 26/40\n",
            "35/35 [==============================] - 44s 1s/step - loss: 0.0322 - argument_loss: 0.0165 - decision_loss: 0.0158 - argument_f1_score: 0.4905 - decision_f1_score: 0.9621 - val_loss: 0.4630 - val_argument_loss: 0.2324 - val_decision_loss: 0.2307 - val_argument_f1_score: 0.4268 - val_decision_f1_score: 0.9008\n",
            "Epoch 27/40\n",
            "35/35 [==============================] - 44s 1s/step - loss: 0.0303 - argument_loss: 0.0154 - decision_loss: 0.0149 - argument_f1_score: 0.7400 - decision_f1_score: 0.9642 - val_loss: 0.4708 - val_argument_loss: 0.2392 - val_decision_loss: 0.2316 - val_argument_f1_score: 0.4292 - val_decision_f1_score: 0.9048\n",
            "Epoch 28/40\n",
            "35/35 [==============================] - 44s 1s/step - loss: 0.0292 - argument_loss: 0.0146 - decision_loss: 0.0146 - argument_f1_score: 0.6163 - decision_f1_score: 0.9661 - val_loss: 0.4769 - val_argument_loss: 0.2526 - val_decision_loss: 0.2242 - val_argument_f1_score: 0.4197 - val_decision_f1_score: 0.9021\n",
            "Epoch 29/40\n",
            "35/35 [==============================] - 44s 1s/step - loss: 0.0294 - argument_loss: 0.0148 - decision_loss: 0.0146 - argument_f1_score: 0.6550 - decision_f1_score: 0.9641 - val_loss: 0.4732 - val_argument_loss: 0.2427 - val_decision_loss: 0.2305 - val_argument_f1_score: 0.4245 - val_decision_f1_score: 0.8906\n",
            "Epoch 30/40\n",
            "35/35 [==============================] - 44s 1s/step - loss: 0.0279 - argument_loss: 0.0150 - decision_loss: 0.0130 - argument_f1_score: 0.6164 - decision_f1_score: 0.9680 - val_loss: 0.4804 - val_argument_loss: 0.2536 - val_decision_loss: 0.2267 - val_argument_f1_score: 0.4239 - val_decision_f1_score: 0.8925\n",
            "Epoch 31/40\n",
            "35/35 [==============================] - 44s 1s/step - loss: 0.0261 - argument_loss: 0.0130 - decision_loss: 0.0132 - argument_f1_score: 0.7423 - decision_f1_score: 0.9702 - val_loss: 0.4860 - val_argument_loss: 0.2565 - val_decision_loss: 0.2294 - val_argument_f1_score: 0.4265 - val_decision_f1_score: 0.9047\n",
            "Epoch 32/40\n",
            "35/35 [==============================] - 44s 1s/step - loss: 0.0253 - argument_loss: 0.0125 - decision_loss: 0.0128 - argument_f1_score: 0.6588 - decision_f1_score: 0.9668 - val_loss: 0.4830 - val_argument_loss: 0.2599 - val_decision_loss: 0.2231 - val_argument_f1_score: 0.4223 - val_decision_f1_score: 0.9064\n",
            "Epoch 33/40\n",
            "35/35 [==============================] - 44s 1s/step - loss: 0.0236 - argument_loss: 0.0116 - decision_loss: 0.0120 - argument_f1_score: 0.6629 - decision_f1_score: 0.9672 - val_loss: 0.4879 - val_argument_loss: 0.2543 - val_decision_loss: 0.2336 - val_argument_f1_score: 0.4244 - val_decision_f1_score: 0.9056\n",
            "Epoch 34/40\n",
            "35/35 [==============================] - 44s 1s/step - loss: 0.0231 - argument_loss: 0.0118 - decision_loss: 0.0114 - argument_f1_score: 0.6624 - decision_f1_score: 0.9690 - val_loss: 0.5000 - val_argument_loss: 0.2656 - val_decision_loss: 0.2344 - val_argument_f1_score: 0.4265 - val_decision_f1_score: 0.9046\n",
            "Epoch 35/40\n",
            "35/35 [==============================] - 44s 1s/step - loss: 0.0226 - argument_loss: 0.0114 - decision_loss: 0.0113 - argument_f1_score: 0.5935 - decision_f1_score: 0.9705 - val_loss: 0.4990 - val_argument_loss: 0.2672 - val_decision_loss: 0.2318 - val_argument_f1_score: 0.4238 - val_decision_f1_score: 0.9063\n",
            "Epoch 36/40\n",
            "35/35 [==============================] - 44s 1s/step - loss: 0.0218 - argument_loss: 0.0107 - decision_loss: 0.0111 - argument_f1_score: 0.7441 - decision_f1_score: 0.9707 - val_loss: 0.5069 - val_argument_loss: 0.2709 - val_decision_loss: 0.2360 - val_argument_f1_score: 0.4265 - val_decision_f1_score: 0.9076\n",
            "Epoch 37/40\n",
            "35/35 [==============================] - 44s 1s/step - loss: 0.0211 - argument_loss: 0.0108 - decision_loss: 0.0103 - argument_f1_score: 0.7456 - decision_f1_score: 0.9800 - val_loss: 0.5051 - val_argument_loss: 0.2741 - val_decision_loss: 0.2310 - val_argument_f1_score: 0.4233 - val_decision_f1_score: 0.9046\n",
            "Epoch 38/40\n",
            "35/35 [==============================] - 44s 1s/step - loss: 0.0210 - argument_loss: 0.0105 - decision_loss: 0.0105 - argument_f1_score: 0.6609 - decision_f1_score: 0.9701 - val_loss: 0.5029 - val_argument_loss: 0.2712 - val_decision_loss: 0.2317 - val_argument_f1_score: 0.4244 - val_decision_f1_score: 0.9111\n",
            "Epoch 39/40\n",
            "35/35 [==============================] - 44s 1s/step - loss: 0.0198 - argument_loss: 0.0099 - decision_loss: 0.0099 - argument_f1_score: 0.7459 - decision_f1_score: 0.9724 - val_loss: 0.5063 - val_argument_loss: 0.2706 - val_decision_loss: 0.2357 - val_argument_f1_score: 0.4271 - val_decision_f1_score: 0.9076\n",
            "Epoch 40/40\n",
            "35/35 [==============================] - 44s 1s/step - loss: 0.0197 - argument_loss: 0.0102 - decision_loss: 0.0095 - argument_f1_score: 0.7462 - decision_f1_score: 0.9733 - val_loss: 0.5234 - val_argument_loss: 0.2764 - val_decision_loss: 0.2470 - val_argument_f1_score: 0.4218 - val_decision_f1_score: 0.9076\n"
          ],
          "name": "stdout"
        }
      ]
    },
    {
      "cell_type": "code",
      "metadata": {
        "colab": {
          "background_save": true
        },
        "id": "t2kiSeCDBDXY",
        "outputId": "dc9585f9-949e-4f07-9459-7cebf567ab8a"
      },
      "source": [
        "# Evaluation\n",
        "testArg = to_categorical(df_test['argument_cat'], 4)\n",
        "testDec = to_categorical(df_test['decision_cat'])\n",
        "testReview = tokenizer(text=df_test['review'].to_list(), add_special_tokens=True,\n",
        "                         max_length=maxLen, truncation=True, padding=True, \n",
        "                         return_tensors='tf', return_token_type_ids = False,\n",
        "                         return_attention_mask = False, verbose = True)\n",
        "modelEval = model.evaluate(x={'input_ids': testReview['input_ids']},\n",
        "                                 y={'argument': testArg, 'decision': testDec})"
      ],
      "execution_count": null,
      "outputs": [
        {
          "output_type": "stream",
          "text": [
            "/usr/local/lib/python3.7/dist-packages/tensorflow/python/keras/metrics.py:257: UserWarning: Metric F1Score implements a `reset_states()` method; rename it to `reset_state()` (without the final \"s\"). The name `reset_states()` has been deprecated to improve API consistency.\n",
            "  'consistency.' % (self.__class__.__name__,))\n"
          ],
          "name": "stderr"
        },
        {
          "output_type": "stream",
          "text": [
            "9/9 [==============================] - 2s 205ms/step - loss: 0.7552 - argument_loss: 0.3279 - decision_loss: 0.4274 - argument_f1_score: 0.4085 - decision_f1_score: 0.8393\n"
          ],
          "name": "stdout"
        }
      ]
    }
  ]
}